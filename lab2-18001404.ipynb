{
 "cells": [
  {
   "attachments": {},
   "cell_type": "markdown",
   "metadata": {},
   "source": [
    "# Laboratorio 2\n",
    "### Por Naomi Lara 18001404\n",
    "\n",
    "#### *Problema 1*\n",
    "Haga un programa en Python que reciba de parámetro un número de segundos y que despliegue en pantalla, las horas, minutos y segundos que representan. Por ejemplo:\n",
    "- Si el número de segundos recibidos fuera: 2743 entonces su programa debeía desplegar:\n",
    "Horas: 0, Minutos: 45 , Segundos: 43\n",
    "- Si el número de segundos recibidos fuera 5871: Horas: 1, Minutos: 37 , Segundos: 51\n",
    "\n",
    "Recuerde manejar excepciones y errores que considere necesarios."
   ]
  },
  {
   "cell_type": "code",
   "execution_count": 3,
   "metadata": {},
   "outputs": [
    {
     "name": "stdout",
     "output_type": "stream",
     "text": [
      "Horas: 0 , Minutos:0, Segundos: 12\n",
      "Horas: 0 , Minutos:45, Segundos: 43\n",
      "Horas: 1 , Minutos:37, Segundos: 51\n",
      "Debe ser un numero entero positivo\n"
     ]
    }
   ],
   "source": [
    "valido = True\n",
    "numero=0\n",
    "while(valido):\n",
    "    try:\n",
    "        numero = int(input(\"Ingrese un numero de segundos (para salir, ingrese un numero negativo):\"))\n",
    "        if(numero>=0):\n",
    "            if(numero>3600):\n",
    "                hora=numero//3600\n",
    "            else:\n",
    "                hora=0\n",
    "            if (numero>60):\n",
    "                minuto=(numero%3600)//60\n",
    "            else:\n",
    "                minuto=0\n",
    "            segundo=numero%60\n",
    "            print(f\"Horas: {hora} , Minutos:{minuto}, Segundos: {segundo}\")\n",
    "        else:\n",
    "            valido = False\n",
    "    except ValueError:\n",
    "        print(\"Debe ser un numero entero positivo\")\n",
    "\n"
   ]
  },
  {
   "attachments": {},
   "cell_type": "markdown",
   "metadata": {},
   "source": [
    "#### *Problema 2*\n",
    "Haga una función en Python que dado un número entre 1 y 20. Y un carácter cualquiera\n",
    "despliegue cuatro patrones triangulares.\n",
    "\n",
    "Por ejemplo si el usuario ingresara el número 4 y el símbolo * el programa debería desplegar\n",
    "lo siguiente:"
   ]
  },
  {
   "cell_type": "code",
   "execution_count": null,
   "metadata": {},
   "outputs": [],
   "source": [
    "def patrones(n,s):\n",
    "    try:\n",
    "        simbolo= str(s)\n",
    "        numero = int(n)\n",
    "        if(numero>=1)&(numero<=20):\n",
    "            for i in range(numero):\n",
    "                print(f\"{simbolo*(i+1)}\")\n",
    "            print('\\n')\n",
    "            for i in range(numero):\n",
    "                print(f\"{simbolo*(numero-i)}\")\n",
    "            print('\\n')\n",
    "            for i in range(numero):\n",
    "                print(f\"{'  '+simbolo*(i+1)+'  '}\")\n",
    "            print('\\n')\n",
    "            for i in range(numero):\n",
    "                print(f\"{'  '+simbolo*(numero-i)+'  '}\")\n",
    "            print('\\n')\n",
    "        else:\n",
    "                print(\"Debe ser un numero entero entre 1 y 20\")\n",
    "    except ValueError:\n",
    "        print(\"Debe ser un numero entero positivo en el primer input de la funcion\")\n",
    "    except TypeError:\n",
    "        print(\"Debe ser un numero entero positivo en el primer input de la funcion no lista ni tupla, etc...\")\n",
    "\n",
    "patrones(3,'+')"
   ]
  },
  {
   "attachments": {},
   "cell_type": "markdown",
   "metadata": {},
   "source": [
    "#### *Problema 3*\n",
    "Haga un programa en Python que la fecha de nacimiento de una persona (puede ingresar por separado cada valor, es decir pedir primero día, luego mes y luego año), despliegue la edad de la persona en años, meses y días. Su resultado puede ser aproximado."
   ]
  },
  {
   "cell_type": "code",
   "execution_count": 3,
   "metadata": {},
   "outputs": [
    {
     "name": "stdout",
     "output_type": "stream",
     "text": [
      "Debe ser un numero entero positivo\n",
      "dia invalido, debe estar entre 1 y 31\n"
     ]
    }
   ],
   "source": [
    "import datetime \n",
    "valido = True\n",
    "y=0\n",
    "m=0\n",
    "d=0\n",
    "while(valido):\n",
    "    try:\n",
    "        y = int(input(\"Ingrese año de nacimiento (para salir, ingrese 0):\"))\n",
    "        m = int(input(\"Ingrese mes de nacimiento (para salir, ingrese 0):\"))\n",
    "        d = int(input(\"Ingrese dia de nacimiento (para salir, ingrese 0):\"))\n",
    "        if(y>0)&(m>0)&(d>0):\n",
    "            if(m>12):\n",
    "                print(\"mes invalido, debe estar entre 1 y 12\")\n",
    "                break\n",
    "            if(d>31):\n",
    "                print(\"dia invalido, debe estar entre 1 y 31\")\n",
    "                break\n",
    "            else:\n",
    "                now = datetime.datetime.now()\n",
    "                mes=abs(now.month-m)\n",
    "                año=abs(now.year-y)\n",
    "                dia=abs(now.day-d)\n",
    "                print(f\"Diferencia año: {año}, mes: {mes}, dia: {dia }\")\n",
    "        else:\n",
    "            if (y==0)or(m==0)or(d==0):\n",
    "                valido = False\n",
    "            else:\n",
    "                print(\"Debe ingresar un numero mayor que 0 para cada dia, mes y año\")\n",
    "\n",
    "    except ValueError:\n",
    "        print(\"Debe ser un numero entero positivo\")"
   ]
  },
  {
   "attachments": {},
   "cell_type": "markdown",
   "metadata": {},
   "source": [
    "#### *Problema 4*\n",
    "Escriba una función en Python que dada una tupla de elementos (números o letras) esta se convierta a un string. Tomar nota del siguiente ejemplo:\n",
    "- Si la entrada fuera: (10, 20, 40, 5, 70)\n",
    "- La salida deber´ıa ser: 102040570"
   ]
  },
  {
   "cell_type": "code",
   "execution_count": 16,
   "metadata": {},
   "outputs": [
    {
     "data": {
      "text/plain": [
       "\"1020((True, 2), 'B', 'C')True['10', '20']\""
      ]
     },
     "execution_count": 16,
     "metadata": {},
     "output_type": "execute_result"
    }
   ],
   "source": [
    "tupla2 = (10, 20, ((True,2), 'B', 'C'), True, ['10', '20'])\n",
    "\n",
    "def tuplaToString(t):\n",
    "        string=\"\"\n",
    "        if isinstance(t, tuple):\n",
    "            for index, value in enumerate(t):\n",
    "                string = string+str(value)\n",
    "        else:\n",
    "            string=\"entrada debe ser una tupla\"\n",
    "        return string\n",
    "tuplaToString(tupla2)"
   ]
  },
  {
   "attachments": {},
   "cell_type": "markdown",
   "metadata": {},
   "source": [
    "#### *Problema 5*\n",
    "Cree un programa en Python que dada una lista de tuplas, elimine las tuplas que están vacías.\n",
    "\n",
    "Tomar nota del siguiente ejemplo:\n",
    "\n",
    "- Si la lista fuera: [(), (), (’X’,), (’a’, ’b’), (’a’, ’b’, ’c’), (’d’)]\n",
    "- El resultado debería ser: [(’X’), (’a’, ’b’), (’a’, ’b’, ’c’), ’d’]"
   ]
  },
  {
   "cell_type": "code",
   "execution_count": 20,
   "metadata": {},
   "outputs": [
    {
     "data": {
      "text/plain": [
       "[('X',), ('a', 'b'), ('a', 'b', 'c'), 'd']"
      ]
     },
     "execution_count": 20,
     "metadata": {},
     "output_type": "execute_result"
    }
   ],
   "source": [
    "def SinNull(tup):\n",
    "    tup = [t for t in tup if t]\n",
    "    return tup\n",
    "prueba=[(), (), ('X',), ('a', 'b'), ('a', 'b', 'c'), ('d')]\n",
    "SinNull(prueba)"
   ]
  },
  {
   "attachments": {},
   "cell_type": "markdown",
   "metadata": {},
   "source": [
    "#### *Problema 6*\n",
    "Cree una función en Python que dada una tupla de tuplas con números, produzca una tupla con el promedio de cada tupla individual. \n",
    "\n",
    "Tomar nota del siguiente ejemplo:\n",
    "\n",
    "- Si la tupla de entrada fuera: ((10, 10, 10, 12), (30, 45, 56, 45), (81, 80, 39, 32))\n",
    "- El resultado debería ser: (10.5, 44, 58)"
   ]
  },
  {
   "cell_type": "code",
   "execution_count": 48,
   "metadata": {},
   "outputs": [
    {
     "data": {
      "text/plain": [
       "(10.5, 44.0, 58.0)"
      ]
     },
     "execution_count": 48,
     "metadata": {},
     "output_type": "execute_result"
    }
   ],
   "source": [
    "import numpy as np\n",
    "def PromedioTup(tup):\n",
    "    sum=0\n",
    "    promedio=0\n",
    "    l=[]\n",
    "    for t in tup:\n",
    "        if isinstance(t, tuple):\n",
    "            l.append(np.mean(t))\n",
    "        else:\n",
    "            print(f\"Contiene un valor que no es del tipo tupla: {t} es identificado como: {type(t)}\")\n",
    "            break\n",
    "    return tuple(l)\n",
    "\n",
    "prueba=((10, 10, 10, 12), (30,45,56,45), (81, 80, 39, 32))\n",
    "PromedioTup(prueba)"
   ]
  },
  {
   "attachments": {},
   "cell_type": "markdown",
   "metadata": {},
   "source": [
    "#### *Problema 7*\n",
    "\n",
    "Escribir un programa que gestione las facturas pendientes de cobro de una empresa. Las facturas se almacenarán en un diccionario donde la llave de cada factura será el número de factura (debe utilizar un numero de 4 dígitos) y el valor el coste de la factura. El programa debe preguntar al usuario si quiere añadir una nueva factura, pagar una existente o terminar. Si desea añadir una nueva factura se preguntará por el número de factura y su coste y se añadirá al diccionario, para confirmar que la factura se ingreso correctamente el programa debe desplegar el diccionario completo. Si se desea pagar una factura se preguntará por el número de factura y se eliminará del diccionario. Después de cada operación el programa debe mostrar en pantalla la cantidad cobrada hasta el momento y la cantidad pendiente de cobro. Puede utilizar otras estructuras de datos como apoyo si lo considera necesario."
   ]
  },
  {
   "cell_type": "code",
   "execution_count": null,
   "metadata": {},
   "outputs": [],
   "source": [
    "#funcion que ingresa nuevos valores a diccionario, validando datos y todo\n",
    "def ingresoFact(d): \n",
    "    try:\n",
    "            llave=int(input(\"Ingrese correlativo de Factura (debe tener 4 digitos)\"))\n",
    "            try:\n",
    "                monto=float(input(\"Ingrese monto total de la factura\"))\n",
    "                if monto<=0 or llave<1000:\n",
    "                    print (\"el monto debe ser mayor a 0 y el correlativo debe ser entero positivo de 4 digitos minimo\")\n",
    "                else:\n",
    "                    #si todo se cumple entonces se guarda en diccionario\n",
    "                    d[str(llave)]=str(monto)\n",
    "                    d['Total por cobrar']=float(d['Total por cobrar'])+monto\n",
    "            except ValueError:\n",
    "                print(\"Monto invalido, el total debe ser un numero mayor a 0\")\n",
    "    except ValueError:\n",
    "            print(\"Correlativo invalido, porfavor ingrese numero entero de 4 digitos\")\n",
    "    return (d)\n",
    "\n",
    "# Cambiar estado de factura a pagado\n",
    "\n",
    "def PagarFact(d): \n",
    "    try:\n",
    "            llave=int(input(\"Ingrese correlativo de Factura\"))\n",
    "            if str(llave) in d.keys():\n",
    "                d['Total pagado']=float(d['Total pagado'])+float(d[str(llave)])\n",
    "                d['Total por cobrar']=float(d['Total por cobrar'])-float(d[str(llave)])\n",
    "                del d[str(llave)]\n",
    "            else:\n",
    "                print(\"llave no encontrada, coloquela de nuevo\")\n",
    "    except ValueError:\n",
    "            print(\"Correlativo invalido, porfavor ingrese numero entero de 4 digitos\")\n",
    "    return (d)\n",
    "\n",
    "#iniciando diccionario\n",
    "facturas = {\n",
    "                'Total pagado':'0',\n",
    "                'Total por cobrar':'0'\n",
    "            }\n",
    "valido=True\n",
    "while(valido):\n",
    "    print('Bienvenido al programa de facturas en Python')\n",
    "    print(f'Estas son las facturas actuales: {facturas}')\n",
    "    print('seleccione una de las siguientes funciones:')\n",
    "    print('1 - Ingresar Nueva Factura por cobrar')\n",
    "    print('2 - Pagar Factura existente')\n",
    "    print('3 - Salir')\n",
    "    try:\n",
    "        res=int(input(\"Ingrese numero de opcion\"))\n",
    "        if (res>0)& (res<4):\n",
    "            if res==3:\n",
    "                  print('Saliendo del programa') \n",
    "                  break\n",
    "            if res==2:\n",
    "                 print(\"Pago de factura\")\n",
    "                 PagarFact(facturas)\n",
    "            if res==1:\n",
    "                 print(\"Ingreso de factura\")\n",
    "                 ingresoFact(facturas)\n",
    "        else:\n",
    "             print(\"Opcion invalida, escoger entre: 1, 2 o 3\")\n",
    "    except ValueError:\n",
    "            print(\"Debe ser numero entero de 1 a 3\")"
   ]
  },
  {
   "attachments": {},
   "cell_type": "markdown",
   "metadata": {},
   "source": [
    "#### *Problema 8*\n",
    "Haga una función en Python, que cree un set con todas las cartas de una baraja de Pocker utilizando el siguiente formato: \n",
    "\n",
    "Tipo-Numero. \n",
    "\n",
    "- Utilice las letras T para tréboles, C para\n",
    "corazones, P para picas y E para espadas.\n",
    "\n",
    "- Para los números utilice la numeración del 1 al 13. \n",
    "\n",
    "Por ejemplo E13 - sería Rey de Espadas, P01 sería As de Picas, T05 sería cinco de Tréboles.\n",
    "\n",
    "Posteriormente cree una función que dado el conjunto anterior cree dos sets nuevos de cartas, cada conjunto debe tener una cantidad variable de elementos, puede utilizar números aleatorios enteros para definir la longitud de los conjuntos.\n",
    "\n",
    "Adicionalmente, deberá calcular la probabilidad de la intersección de ambos conjuntos y demuestre si son eventos independientes con la regla del producto.\n",
    "\n",
    "Para concluir, calcule probabilidad de la unión de ambos conjuntos y demuestre que se cumple\n",
    "la regla de la adición."
   ]
  },
  {
   "cell_type": "code",
   "execution_count": null,
   "metadata": {},
   "outputs": [],
   "source": [
    "import random\n",
    "\n",
    "tipos=['T','C','P','E']\n",
    "numeros=list(range(1,14,1))\n",
    "baraja=[]\n",
    "\n",
    "def CrearBaraja():\n",
    "#ciclo para cada tipo de carta, agrega numeros de 1 al 13\n",
    "    for tipo in tipos:\n",
    "        for numero in numeros:\n",
    "            carta=tipo+str(numero)\n",
    "            baraja.append(carta)\n",
    "    return baraja\n",
    "\n",
    "def CrearSet(b):\n",
    "#aleatorio es un listado de 2 numeros random para asignarle a cada set\n",
    "    aleatorio=random.sample(range(1,23),2)\n",
    "    setA=set(random.sample(b,aleatorio[0]))\n",
    "    setB=set(random.sample(b,aleatorio[1]))\n",
    "    return setA, setB\n",
    "\n",
    "\n",
    "#PROGRAMA PRINCIPAL, CALCULO DE UNION E INTERSECCION\n",
    "\n",
    "\n",
    "baraja=CrearBaraja()\n",
    "sets=CrearSet(baraja)\n",
    "##demostrando regla de la adicion (union de conjuntos)\n",
    "#se calcula interseccion y despues su probabilidad, la lista sets contiene el set A y el set B\n",
    "inter=sets[0].intersection(sets[1])\n",
    "probinter=round((len(inter)/(len(sets[0])+len(sets[1]))),3)\n",
    "#se calcula union y despues su probabilidad, la lista sets contiene set A y set B\n",
    "union=sets[0].union(sets[1])\n",
    "probUnion=round((len(union)/(len(sets[0])+len(sets[1]))),3)\n",
    "#Calculo probabilidad de A segun el espacio que ocupa A en el total de elementos (considerando A y B) y lo mismo para B\n",
    "probA=round((len(sets[0])/(len(sets[0])+len(sets[1]))),3)\n",
    "probB=round((len(sets[1])/(len(sets[0])+len(sets[1]))),3)\n",
    "#Aplico regla de la adicion para la union de conjuntos\n",
    "probUnion2=probA+probB-probinter\n",
    "#Imprimo formula o igualdad\n",
    "print(f'Set de Cartas y operaciones \\n ')\n",
    "print(f'setA: {sets[0]}')\n",
    "print(f'setB: {sets[1]}')\n",
    "print(f'union: {union}')\n",
    "print(f'intersección: {inter} \\n ')\n",
    "print(f'Demostración Regla de la unión \\n ')\n",
    "print(f' P(A U B):{probUnion} = P(A):{probA} + P(B):{probB} - P(A n B):{probinter} = {probUnion2} \\n ')\n",
    "print(f'Demostración Regla de la intersección \\n ')\n",
    "print(f' P(A n B):{probinter} = P(A):{probA} * P(B):{probB}  = {probA*probB} ')\n"
   ]
  }
 ],
 "metadata": {
  "kernelspec": {
   "display_name": "Python 3",
   "language": "python",
   "name": "python3"
  },
  "language_info": {
   "codemirror_mode": {
    "name": "ipython",
    "version": 3
   },
   "file_extension": ".py",
   "mimetype": "text/x-python",
   "name": "python",
   "nbconvert_exporter": "python",
   "pygments_lexer": "ipython3",
   "version": "3.10.4"
  },
  "orig_nbformat": 4,
  "vscode": {
   "interpreter": {
    "hash": "77f7f76ed79e34ec8995efb3fe0ee8da670fd23db674ecb4dfbf1d2af7d0a7c4"
   }
  }
 },
 "nbformat": 4,
 "nbformat_minor": 2
}
